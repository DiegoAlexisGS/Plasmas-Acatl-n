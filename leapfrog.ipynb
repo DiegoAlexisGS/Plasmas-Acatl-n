{
 "cells": [
  {
   "cell_type": "markdown",
   "metadata": {},
   "source": [
    "<center><h1>Algoritmo <i>Leapfrog</i></h1></center>"
   ]
  },
  {
   "cell_type": "markdown",
   "metadata": {},
   "source": [
    "&nbsp;Se considera que la ecuación diferencial\n",
    "\n",
    "$$\\frac{du}{dt}=-\\frac{u}{\\tau},$$\n",
    "\n",
    "cuya solución analítica es\n",
    "\n",
    "$$u=ce^{-\\frac{t}{\\tau}},$$\n",
    "\n",
    "debe ser resuelta, por la naturaleza discreta de las computadoras, con los llamados \"métodos numéricos\".\n",
    "\n",
    "&nbsp;El método <i>Leapfrog</i> es una de estas técnicas de integración discreta."
   ]
  },
  {
   "cell_type": "code",
   "execution_count": 2,
   "metadata": {},
   "outputs": [],
   "source": [
    "def euler(lowerBound, upperBound, segments, initialCondition, equation):\n",
    "    xArray = []\n",
    "    yArray = []\n",
    "    h = (upperBound - lowerBound)/segments\n",
    "    t = lowerBound\n",
    "    w = initialCondition\n",
    "    \n",
    "    for i in range(1, segments+1):\n",
    "        w = w + h*equation(w, t)\n",
    "        t = lowerBound + i*h\n",
    "        xArray.append(t)\n",
    "        yArray.append(w)\n",
    "    return(xArray,yArray)"
   ]
  },
  {
   "cell_type": "code",
   "execution_count": 4,
   "metadata": {},
   "outputs": [],
   "source": [
    "tau = 5\n",
    "\n",
    "def eq(u, t):\n",
    "    return(-u/tau)\n",
    "\n",
    "x, t = euler(0, 2, 20, 1, eq)"
   ]
  },
  {
   "cell_type": "code",
   "execution_count": 5,
   "metadata": {},
   "outputs": [
    {
     "name": "stdout",
     "output_type": "stream",
     "text": [
      "[0.1, 0.2, 0.30000000000000004, 0.4, 0.5, 0.6000000000000001, 0.7000000000000001, 0.8, 0.9, 1.0, 1.1, 1.2000000000000002, 1.3, 1.4000000000000001, 1.5, 1.6, 1.7000000000000002, 1.8, 1.9000000000000001, 2.0]\n",
      "[0.98, 0.9604, 0.941192, 0.92236816, 0.9039207968, 0.885842380864, 0.86812553324672, 0.8507630225817856, 0.8337477621301499, 0.8170728068875469, 0.800731350749796, 0.7847167237348001, 0.769022389260104, 0.7536419414749019, 0.7385691026454039, 0.7237977205924958, 0.7093217661806459, 0.6951353308570329, 0.6812326242398923, 0.6676079717550945]\n"
     ]
    }
   ],
   "source": [
    "print(x)\n",
    "print(t)"
   ]
  },
  {
   "cell_type": "code",
   "execution_count": null,
   "metadata": {},
   "outputs": [],
   "source": []
  }
 ],
 "metadata": {
  "kernelspec": {
   "display_name": "Python 3",
   "language": "python",
   "name": "python3"
  },
  "language_info": {
   "codemirror_mode": {
    "name": "ipython",
    "version": 3
   },
   "file_extension": ".py",
   "mimetype": "text/x-python",
   "name": "python",
   "nbconvert_exporter": "python",
   "pygments_lexer": "ipython3",
   "version": "3.6.4"
  }
 },
 "nbformat": 4,
 "nbformat_minor": 2
}
