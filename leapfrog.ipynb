{
 "cells": [
  {
   "cell_type": "markdown",
   "metadata": {},
   "source": [
    "<center><h1>Algoritmo <i>Leapfrog</i></h1></center>"
   ]
  },
  {
   "cell_type": "markdown",
   "metadata": {},
   "source": [
    "&nbsp;Se considera que la ecuación diferencial\n",
    "\n",
    "$$\\frac{du}{dt}=-\\frac{u}{\\tau},$$\n",
    "\n",
    "cuya solución analítica es\n",
    "\n",
    "$$u=ce^{-\\frac{t}{\\tau}},$$\n",
    "\n",
    "debe ser resuelta, por la naturaleza discreta de las computadoras, con los llamados \"métodos numéricos\".\n",
    "\n",
    "&nbsp;El método <i>Leapfrog</i> es una de estas técnicas de integración discreta."
   ]
  },
  {
   "cell_type": "code",
   "execution_count": null,
   "metadata": {},
   "outputs": [],
   "source": [
    "def euler(lowerBound, upperBound, segments, initialCondition, equation):\n",
    "    xArray = []\n",
    "    yArray = []\n",
    "    h = (upperBound - lowerBound)/segments\n",
    "    t = lowerBound\n",
    "    w = A\n",
    "    \n",
    "    for i in range(1, N+1):\n",
    "        w = w + h*float(f(t, w))\n",
    "        t = a + i*h\n",
    "        xArray.append(t)\n",
    "        yArray.append(w)\n",
    "    return(xArray,yArray)"
   ]
  }
 ],
 "metadata": {
  "kernelspec": {
   "display_name": "Python 3",
   "language": "python",
   "name": "python3"
  },
  "language_info": {
   "codemirror_mode": {
    "name": "ipython",
    "version": 3
   },
   "file_extension": ".py",
   "mimetype": "text/x-python",
   "name": "python",
   "nbconvert_exporter": "python",
   "pygments_lexer": "ipython3",
   "version": "3.6.4"
  }
 },
 "nbformat": 4,
 "nbformat_minor": 2
}
