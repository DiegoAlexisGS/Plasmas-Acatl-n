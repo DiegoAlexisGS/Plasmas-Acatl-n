{
 "cells": [
  {
   "cell_type": "markdown",
   "metadata": {},
   "source": [
    "# Algoritmo *Leapfrog*"
   ]
  },
  {
   "cell_type": "markdown",
   "metadata": {},
   "source": [
    "&nbsp;Se considera que la ecuación diferencial\n",
    "\n",
    "$$\\frac{du}{dt}=-\\frac{u}{\\tau},$$\n",
    "\n",
    "cuya solución analítica es\n",
    "\n",
    "$$u=ce^{-\\frac{t}{\\tau}},$$\n",
    "\n",
    "debe ser resuelta, por la naturaleza discreta de las computadoras, con los llamados \"métodos numéricos\".\n",
    "\n",
    "&nbsp;El método <i>Leapfrog</i> es una de estas técnicas de integración discreta."
   ]
  },
  {
   "cell_type": "markdown",
   "metadata": {},
   "source": [
    "## Relación con el algoritmo de Euler\n",
    "\n",
    "&nbsp;Tomando como punto de partida la imlementación del método de Euler, desarrollada por Galván"
   ]
  },
  {
   "cell_type": "code",
   "execution_count": 2,
   "metadata": {},
   "outputs": [],
   "source": [
    "def euler(lowerBound, upperBound, segments, initialCondition, equation):\n",
    "    uArray = []\n",
    "    tArray = []\n",
    "    h = (upperBound - lowerBound)/segments\n",
    "    t_n = lowerBound\n",
    "    u_n = initialCondition\n",
    "    \n",
    "    for n in range(1, segments+1):\n",
    "        u_n = u_n + h*equation(t_n, u_n)\n",
    "        t_n = lowerBound + n*h\n",
    "        uArray.append(t_n)\n",
    "        tArray.append(u_n)\n",
    "    return(uArray,tArray)"
   ]
  },
  {
   "cell_type": "code",
   "execution_count": 9,
   "metadata": {},
   "outputs": [],
   "source": [
    "def eq(t, u):\n",
    "    return(-u/tau)\n",
    "\n",
    "tau = 1\n",
    "u_1, t_1 = euler(0, 2, 20, 1, eq)\n",
    "\n",
    "tau = 5\n",
    "u_2, t_2 = euler(0, 2, 20, 1, eq)\n",
    "\n",
    "tau = 10\n",
    "u_3, t_3 = euler(0, 2, 20, 1, eq)"
   ]
  },
  {
   "cell_type": "code",
   "execution_count": 4,
   "metadata": {},
   "outputs": [],
   "source": [
    "import matplotlib.pyplot as plt"
   ]
  },
  {
   "cell_type": "code",
   "execution_count": 13,
   "metadata": {},
   "outputs": [
    {
     "data": {
      "image/png": "[encoded data removed]",
      "text/plain": [
       "<matplotlib.figure.Figure at 0x6fbe3b8940>"
      ]
     },
     "metadata": {},
     "output_type": "display_data"
    }
   ],
   "source": [
    "fig, ax = plt.subplots()\n",
    "ax.plot(u_1, t_1, color = \"blue\", label = \"τ=1, u(0)=1\")\n",
    "ax.plot(u_2, t_2, color = \"red\", label = \"τ=5, u_0=1\")\n",
    "ax.plot(u_3, t_3, color = \"green\", label = \"τ=10, u_0=1\")\n",
    "ax.set_xlabel(\"t\")\n",
    "ax.set_ylabel(\"u(t)\")\n",
    "ax.legend()\n",
    "plt.show()"
   ]
  },
  {
   "cell_type": "code",
   "execution_count": null,
   "metadata": {},
   "outputs": [],
   "source": []
  }
 ],
 "metadata": {
  "kernelspec": {
   "display_name": "Python 3",
   "language": "python",
   "name": "python3"
  },
  "language_info": {
   "codemirror_mode": {
    "name": "ipython",
    "version": 3
   },
   "file_extension": ".py",
   "mimetype": "text/x-python",
   "name": "python",
   "nbconvert_exporter": "python",
   "pygments_lexer": "ipython3",
   "version": "3.6.4"
  }
 },
 "nbformat": 4,
 "nbformat_minor": 2
}
