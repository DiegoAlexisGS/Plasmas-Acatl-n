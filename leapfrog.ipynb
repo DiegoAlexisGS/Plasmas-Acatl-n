{
 "cells": [
  {
   "cell_type": "markdown",
   "metadata": {},
   "source": [
    "<center><h1>Algoritmo <i>Leapfrog</i></h1></center>"
   ]
  },
  {
   "cell_type": "markdown",
   "metadata": {},
   "source": [
    "Se considera la ecuación diferencial\n",
    "\n",
    "$$\\frac{du}{dt}=-\\frac{u}{\\tau}$$,\n",
    "\n",
    "cuya solución analítica es\n",
    "\n",
    "$$u=ce^{-\\frac{t}{\\tau}}$$,\n",
    "\n",
    "debe ser resuelta, por la naturaleza discreta de las computadoras, son los llama"
   ]
  },
  {
   "cell_type": "code",
   "execution_count": null,
   "metadata": {},
   "outputs": [],
   "source": []
  }
 ],
 "metadata": {
  "kernelspec": {
   "display_name": "Python 3",
   "language": "python",
   "name": "python3"
  },
  "language_info": {
   "codemirror_mode": {
    "name": "ipython",
    "version": 3
   },
   "file_extension": ".py",
   "mimetype": "text/x-python",
   "name": "python",
   "nbconvert_exporter": "python",
   "pygments_lexer": "ipython3",
   "version": "3.6.4"
  }
 },
 "nbformat": 4,
 "nbformat_minor": 2
}
