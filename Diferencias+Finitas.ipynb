{
 "cells": [
  {
   "cell_type": "markdown",
   "metadata": {},
   "source": [
    "## Método de diferencias finitas para problemas con condiciones de frontera"
   ]
  },
  {
   "cell_type": "code",
   "execution_count": 11,
   "metadata": {
    "collapsed": true
   },
   "outputs": [],
   "source": [
    "import numpy as np\n",
    "import sympy\n",
    "import math\n",
    "import matplotlib.pyplot as plt\n",
    "from mpmath import *\n",
    "sympy.init_printing()"
   ]
  },
  {
   "cell_type": "markdown",
   "metadata": {},
   "source": [
    "Resolvemos un ejemplo con el método de diferencias finitas. Este método incluye ya la solución de la matriz tridiagonal por el método de factorización LU.\n",
    "Consideramos la siguiente ecuación diferencial:\n",
    "$$\n",
    "-\\frac{2}{x}y''(x)+\\frac{2}{x^2}y'(x)+\\frac{sin(ln(x))}{x^2}y(x)=0\n",
    "$$\n",
    "Con condiciones de frontera $y(0)=1$ y $y(4)=2$"
   ]
  },
  {
   "cell_type": "code",
   "execution_count": 8,
   "metadata": {
    "collapsed": true
   },
   "outputs": [],
   "source": [
    "#Defimimos las funciones \n",
    "def p(val):\n",
    "    return(-2/val)\n",
    "def q(val1):\n",
    "    return(2/(val1**2))\n",
    "def r(val2):\n",
    "    return((math.sin(math.log(val2)))/(val2**2))"
   ]
  },
  {
   "cell_type": "code",
   "execution_count": 1,
   "metadata": {
    "collapsed": true,
    "scrolled": true
   },
   "outputs": [],
   "source": [
    "#Método de diferencias Finitas\n",
    "def diferencias(a,b,al,be,N):\n",
    "    listax=[]\n",
    "    listay=[]\n",
    "    A=np.zeros(N)\n",
    "    B=np.zeros(N-1)\n",
    "    c=np.zeros(N)\n",
    "    d=np.zeros(N)\n",
    "    l=np.zeros(N)\n",
    "    u=np.zeros(N)\n",
    "    z=np.zeros(N)\n",
    "    w=np.zeros(N+2)\n",
    "    #Paso1\n",
    "    h=(b-a)/(N+1)\n",
    "    x=a+h\n",
    "    A[0]=2+(h**2)*q(x)\n",
    "    B[0]=-1+(h/2)*p(x)\n",
    "    d[0]=-(h**2)*r(x)+(1+(h/2)*p(x))*al\n",
    "    #Paso2\n",
    "    for i in range(1,N-1):\n",
    "        x=a+i*h\n",
    "        A[i]=2+(math.pow(h,2))*q(x)\n",
    "        B[i]=-1+(h/2)*p(x)\n",
    "        c[i]=-1-(h/2)*p(x)\n",
    "        d[i]=-(math.pow(h,2))*r(x)\n",
    "    #Paso3\n",
    "    x=b-h\n",
    "    A[N-1]=2+(math.pow(h,2))*q(x)\n",
    "    c[N-1]=-1-(h/2)*p(x)\n",
    "    d[N-1]=-(math.pow(h,2))*r(x)+(1-(h/2)*p(x))*be\n",
    "    #Paso4\n",
    "    l[0]=A[0]\n",
    "    u[0]=B[0]/A[0]\n",
    "    z[0]=d[0]/l[0]\n",
    "    #Paso5\n",
    "    for j in range(1,N-1):\n",
    "        l[j]=A[j]-c[j]*u[j-1]\n",
    "        u[j]=(B[j]/l[j])\n",
    "        z[j]=(d[j]-c[j]*z[j-1])/l[j]\n",
    "    #Paso6\n",
    "    l[N-1]=A[N-1]-c[N-1]*u[N-2]\n",
    "    z[N-1]=(d[N-1]-c[N-1]*z[N-2])/l[N-1]\n",
    "    #Paso7\n",
    "    w[0]=al\n",
    "    w[N+1]=be\n",
    "    w[N]=z[N-1]\n",
    "    #Paso8\n",
    "    lista=list(np.arange(1,N))\n",
    "    lista.reverse()\n",
    "    for k in lista:\n",
    "        w[k]=z[k-1]-u[k-1]*w[k+1]\n",
    "    for m in range(N+2):\n",
    "        x=a+m*h\n",
    "        listax.append(x)\n",
    "        listay.append(w[m])\n",
    "        print(x,w[m])\n",
    "    return(listax,listay)"
   ]
  },
  {
   "cell_type": "code",
   "execution_count": 2,
   "metadata": {
    "scrolled": false
   },
   "outputs": [
    {
     "ename": "NameError",
     "evalue": "name 'np' is not defined",
     "output_type": "error",
     "traceback": [
      "\u001b[0;31m---------------------------------------------------------------------------\u001b[0m",
      "\u001b[0;31mNameError\u001b[0m                                 Traceback (most recent call last)",
      "\u001b[0;32m<ipython-input-2-c0f12119c7ea>\u001b[0m in \u001b[0;36m<module>\u001b[0;34m()\u001b[0m\n\u001b[1;32m      1\u001b[0m \u001b[0;31m#Ejemplo resuelto\u001b[0m\u001b[0;34m\u001b[0m\u001b[0;34m\u001b[0m\u001b[0m\n\u001b[0;32m----> 2\u001b[0;31m \u001b[0mx\u001b[0m\u001b[0;34m,\u001b[0m\u001b[0my\u001b[0m\u001b[0;34m=\u001b[0m\u001b[0mdiferencias\u001b[0m\u001b[0;34m(\u001b[0m\u001b[0;36m1\u001b[0m\u001b[0;34m,\u001b[0m\u001b[0;36m5\u001b[0m\u001b[0;34m,\u001b[0m\u001b[0;36m1\u001b[0m\u001b[0;34m,\u001b[0m\u001b[0;36m2\u001b[0m\u001b[0;34m,\u001b[0m\u001b[0;36m20\u001b[0m\u001b[0;34m)\u001b[0m\u001b[0;34m\u001b[0m\u001b[0m\n\u001b[0m",
      "\u001b[0;32m<ipython-input-1-e97ea8423b39>\u001b[0m in \u001b[0;36mdiferencias\u001b[0;34m(a, b, al, be, N)\u001b[0m\n\u001b[1;32m      3\u001b[0m     \u001b[0mlistax\u001b[0m\u001b[0;34m=\u001b[0m\u001b[0;34m[\u001b[0m\u001b[0;34m]\u001b[0m\u001b[0;34m\u001b[0m\u001b[0m\n\u001b[1;32m      4\u001b[0m     \u001b[0mlistay\u001b[0m\u001b[0;34m=\u001b[0m\u001b[0;34m[\u001b[0m\u001b[0;34m]\u001b[0m\u001b[0;34m\u001b[0m\u001b[0m\n\u001b[0;32m----> 5\u001b[0;31m     \u001b[0mA\u001b[0m\u001b[0;34m=\u001b[0m\u001b[0mnp\u001b[0m\u001b[0;34m.\u001b[0m\u001b[0mzeros\u001b[0m\u001b[0;34m(\u001b[0m\u001b[0mN\u001b[0m\u001b[0;34m)\u001b[0m\u001b[0;34m\u001b[0m\u001b[0m\n\u001b[0m\u001b[1;32m      6\u001b[0m     \u001b[0mB\u001b[0m\u001b[0;34m=\u001b[0m\u001b[0mnp\u001b[0m\u001b[0;34m.\u001b[0m\u001b[0mzeros\u001b[0m\u001b[0;34m(\u001b[0m\u001b[0mN\u001b[0m\u001b[0;34m-\u001b[0m\u001b[0;36m1\u001b[0m\u001b[0;34m)\u001b[0m\u001b[0;34m\u001b[0m\u001b[0m\n\u001b[1;32m      7\u001b[0m     \u001b[0mc\u001b[0m\u001b[0;34m=\u001b[0m\u001b[0mnp\u001b[0m\u001b[0;34m.\u001b[0m\u001b[0mzeros\u001b[0m\u001b[0;34m(\u001b[0m\u001b[0mN\u001b[0m\u001b[0;34m)\u001b[0m\u001b[0;34m\u001b[0m\u001b[0m\n",
      "\u001b[0;31mNameError\u001b[0m: name 'np' is not defined"
     ]
    }
   ],
   "source": [
    "#Ejemplo resuelto\n",
    "x,y=diferencias(1,5,1,2,20)"
   ]
  },
  {
   "cell_type": "code",
   "execution_count": 32,
   "metadata": {
    "scrolled": true
   },
   "outputs": [
    {
     "data": {
      "image/png": "[encoded data removed]",
      "text/plain": [
       "<matplotlib.figure.Figure at 0x7f354d26e128>"
      ]
     },
     "metadata": {},
     "output_type": "display_data"
    }
   ],
   "source": [
    "fig, ax=plt.subplots()\n",
    "ax.plot(x,y,color=\"blue\")\n",
    "ax.set_xlabel(\"x\")\n",
    "ax.set_ylabel(\"y(x)\")\n",
    "ax.legend()\n",
    "plt.show()"
   ]
  }
 ],
 "metadata": {
  "kernelspec": {
   "display_name": "Python 3",
   "language": "python",
   "name": "python3"
  },
  "language_info": {
   "codemirror_mode": {
    "name": "ipython",
    "version": 3
   },
   "file_extension": ".py",
   "mimetype": "text/x-python",
   "name": "python",
   "nbconvert_exporter": "python",
   "pygments_lexer": "ipython3",
   "version": "3.6.3"
  }
 },
 "nbformat": 4,
 "nbformat_minor": 2
}
